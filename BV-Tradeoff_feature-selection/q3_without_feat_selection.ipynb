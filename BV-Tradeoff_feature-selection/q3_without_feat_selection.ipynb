{
 "cells": [
  {
   "cell_type": "code",
   "execution_count": 249,
   "metadata": {},
   "outputs": [],
   "source": [
    "import pandas as pd\n",
    "import matplotlib.pyplot as plt\n",
    "df = pd.read_csv('hw1_input.csv')"
   ]
  },
  {
   "cell_type": "code",
   "execution_count": 250,
   "metadata": {},
   "outputs": [],
   "source": [
    "# data conversion for label encoding and intermediate usage for one-hot-encoding\n",
    "import numpy as np\n",
    "data = np.array(df)\n",
    "data[data=='Female'] = 0\n",
    "data[data=='Male'] = 1\n",
    "data[data=='Abnormal'] = 0\n",
    "data[data=='Angina'] = 1\n",
    "data[data=='Asymptomatic'] = 2\n",
    "data[data=='None'] = 3\n",
    "data[data=='No'] = 0\n",
    "data[data=='Yes'] = 1\n",
    "data[data==' hyper'] = 0\n",
    "data[data=='abnorm'] = 1\n",
    "data[data=='norm'] = 2\n",
    "data[data=='Down'] = 0\n",
    "data[data=='Flat'] = 1\n",
    "data[data=='Up'] = 2\n",
    "data[data=='Fixed Defect'] = 0\n",
    "data[data=='Normal'] = 1\n",
    "data[data=='reversible Defect'] = 2\n",
    "data[data=='Abnormal'] = 0"
   ]
  },
  {
   "cell_type": "code",
   "execution_count": 243,
   "metadata": {},
   "outputs": [],
   "source": [
    "# for one-hot-encoding (did not perform for this task)\n",
    "#from sklearn.preprocessing import OneHotEncoder\n",
    "#enc = OneHotEncoder(categorical_features=[1,2,5,6,8,10,12])\n",
    "#OneHotEncData=data#OneHotEncData = df.iloc[:,0:13].values\n",
    "#print OneHotEncData.shape\n",
    "#OneHotEncData = enc.fit_transform(OneHotEncData).toarray()\n",
    "#print OneHotEncData.shape"
   ]
  },
  {
   "cell_type": "code",
   "execution_count": 251,
   "metadata": {},
   "outputs": [
    {
     "name": "stdout",
     "output_type": "stream",
     "text": [
      "(216, 13)\n",
      "(54, 13)\n"
     ]
    }
   ],
   "source": [
    "from sklearn.model_selection import train_test_split\n",
    "train_data, test_data, train_labels, test_labels = train_test_split(data[:,0:13], data[:,13], test_size=0.20)\n",
    "#train_data, test_data, train_labels, test_labels = train_test_split(OneHotEncData, data[:,13], test_size=0.20)\n",
    "print train_data.shape\n",
    "print test_data.shape\n",
    "tr_data = train_data\n",
    "te_data = test_data"
   ]
  },
  {
   "cell_type": "code",
   "execution_count": 252,
   "metadata": {
    "collapsed": true
   },
   "outputs": [],
   "source": [
    "train_data = tr_data\n",
    "test_data = te_data"
   ]
  },
  {
   "cell_type": "code",
   "execution_count": 220,
   "metadata": {
    "scrolled": true
   },
   "outputs": [
    {
     "name": "stdout",
     "output_type": "stream",
     "text": [
      "[u'major vessels', u'angina', u'Chest Pain', u'max hr', u'oldpeak', u'fasting blood sugar > 120', u'Cholestoral', u'defect', u'slope', u'BP', u'Sex', u'resting ECG', u'Age']\n"
     ]
    },
    {
     "data": {
      "image/png": "[encoded data removed]",
      "text/plain": [
       "<matplotlib.figure.Figure at 0x7f1027fc2e50>"
      ]
     },
     "metadata": {},
     "output_type": "display_data"
    },
    {
     "name": "stdout",
     "output_type": "stream",
     "text": [
      "[u'max hr', u'Chest Pain', u'Cholestoral', u'BP', u'resting ECG', u'fasting blood sugar > 120', u'Sex', u'Age', u'oldpeak', u'defect', u'angina', u'slope']\n"
     ]
    },
    {
     "data": {
      "image/png": "[encoded data removed]",
      "text/plain": [
       "<matplotlib.figure.Figure at 0x7f10355313d0>"
      ]
     },
     "metadata": {},
     "output_type": "display_data"
    }
   ],
   "source": [
    "# RSS forward selection and backward elimination algorithms for categorical data handled through label encoding \n",
    "# (has not been used in the report as selection of features was better from the F-statistic)\n",
    "from sklearn import linear_model\n",
    "\n",
    "def compute_rss(pred, truth):\n",
    "    return sum((pred-truth)**2)\n",
    "\n",
    "indDict = {'Age':0,'Sex':1,'Chest Pain':2,'BP':3,'Cholestoral':4,'fasting blood sugar > 120':5,'resting ECG':6,'max hr':7,'angina':8,'oldpeak':9,'slope':10,'major vessels':11,'defect':12}\n",
    "# feature selection (forward selection)\n",
    "def rss_feat_fwd(indDict):\n",
    "    rss = []\n",
    "    selected_feat = []\n",
    "    remaining_feat = [u'Age', u'Sex', u'Chest Pain', u'BP', u'Cholestoral',u'fasting blood sugar > 120', u'resting ECG', u'max hr', u'angina',u'oldpeak', u'slope', u'major vessels', u'defect']\n",
    "    for i in range(13):\n",
    "        max_val = float('inf')\n",
    "        for j in remaining_feat:\n",
    "            lin_reg = linear_model.LinearRegression()\n",
    "            ind = [indDict[i] for i in selected_feat]\n",
    "            ind.append(indDict[j])\n",
    "            train_data, test_data, train_labels, test_labels = train_test_split(data[:,ind], data[:,13], test_size=0.20)\n",
    "            lin_reg.fit(train_data, train_labels)\n",
    "            pred = lin_reg.predict(test_data)\n",
    "            val = compute_rss(pred, test_labels)\n",
    "            if val < max_val:\n",
    "                max_val = val\n",
    "                max_feat = j\n",
    "        rss.append(max_val)\n",
    "        remaining_feat.remove(max_feat)\n",
    "        selected_feat.append(max_feat)\n",
    "    print selected_feat\n",
    "    plt.plot(rss)\n",
    "    plt.show()\n",
    "rss_feat_fwd(indDict)\n",
    "\n",
    "# feature selection (backward elimination)\n",
    "def rss_feat_bkwd(indDict):\n",
    "    rss = []\n",
    "    removed_feat = []\n",
    "    remaining_feat = [u'Age', u'Sex', u'Chest Pain', u'BP', u'Cholestoral',u'fasting blood sugar > 120', u'resting ECG', u'max hr', u'angina',u'oldpeak', u'slope', u'major vessels', u'defect']\n",
    "    for i in range(12):\n",
    "        max_val = float('inf')\n",
    "        for j in remaining_feat:\n",
    "            lin_reg = linear_model.LinearRegression()\n",
    "            ind = [indDict[i] for i in remaining_feat]\n",
    "            ind.remove(indDict[j])\n",
    "            train_data, test_data, train_labels, test_labels = train_test_split(data[:,ind], data[:,13], test_size=0.20)\n",
    "            lin_reg.fit(train_data, train_labels)\n",
    "            pred = lin_reg.predict(test_data)\n",
    "            val = compute_rss(pred, test_labels)\n",
    "            if val < max_val:\n",
    "                max_val = val\n",
    "                max_feat = j\n",
    "        rss.append(max_val)\n",
    "        remaining_feat.remove(max_feat)\n",
    "        removed_feat.append(max_feat)\n",
    "    print removed_feat\n",
    "    plt.plot(rss)\n",
    "    plt.show()\n",
    "rss_feat_bkwd(indDict)"
   ]
  },
  {
   "cell_type": "code",
   "execution_count": 253,
   "metadata": {},
   "outputs": [
    {
     "name": "stdout",
     "output_type": "stream",
     "text": [
      "[9.15407809e+00 2.31462562e+01 4.77236799e+01 5.16614675e+00\n",
      " 4.30429047e+00 4.53117192e-02 1.10164895e+01 4.51156796e+01\n",
      " 4.65574270e+01 5.17634052e+01 3.47415946e+01 5.00673744e+01\n",
      " 4.06517728e+01]\n"
     ]
    }
   ],
   "source": [
    "from sklearn.feature_selection import f_regression\n",
    "F,p = f_regression(train_data.astype('float'), train_labels.astype('int'))\n",
    "print F"
   ]
  },
  {
   "cell_type": "code",
   "execution_count": 230,
   "metadata": {
    "collapsed": true
   },
   "outputs": [],
   "source": [
    "# selecting train test data based on F-statistic\n",
    "train_data = train_data[:,[0,1,2,3,4,5,6,10]]\n",
    "test_data = test_data[:,[0,1,2,3,4,5,6,10]]\n",
    "#train_data = train_data[:,F<10]\n",
    "#test_data = test_data[:,F<10]"
   ]
  },
  {
   "cell_type": "code",
   "execution_count": 254,
   "metadata": {
    "scrolled": true
   },
   "outputs": [
    {
     "name": "stdout",
     "output_type": "stream",
     "text": [
      "0 0.3161115287290407 0.19297255182441153\n",
      "0 0.08532269620011251 0.054801465771694556\n",
      "0 0.19829766446962116 0.12834503482299442\n",
      "0 0.5009202965819495 0.6621043045864314\n",
      "0 0.2883151634348061 0.1843051961519955\n",
      "1 0.8295212071791234 0.9555646783395441\n",
      "1 0.5560404411238167 0.4750076783498988\n",
      "1 1.1511623079385833 0.9942329945683055\n",
      "1 0.41745480244483946 0.39443988355348386\n",
      "1 1.1148052499644854 0.9947489645033721\n",
      "0 0.4030155391653157 0.3991401863124085\n",
      "1 0.9817875389688072 0.9756661253906664\n",
      "1 1.111268379478243 0.993525405993141\n",
      "1 0.16851622811238798 0.119527557686021\n",
      "1 0.9785131442771915 0.9744808722039547\n",
      "0 0.4615443512788617 0.5692735899350997\n",
      "0 0.18080684943690217 0.13114280741836276\n",
      "1 0.5563251379665659 0.6396400300347599\n",
      "1 1.0080878005585348 0.9821991545926271\n",
      "0 0.2319742363222838 0.09241161690332074\n",
      "1 0.8236584572249909 0.940518527390339\n",
      "1 0.026152420714999458 0.030019291377565472\n",
      "1 1.0084981109587696 0.9861864944878717\n",
      "0 0.3344924109995223 0.20286434810119003\n",
      "1 0.7971161797088971 0.9373244781757215\n",
      "0 0.29812779747291696 0.15533244718851225\n",
      "0 0.21312078745411134 0.23052971241770356\n",
      "0 0.5121087851354362 0.5247370139181685\n",
      "1 0.7588850297085403 0.950700683787975\n",
      "1 0.8348578558660322 0.9339695616275482\n",
      "1 1.184743861371821 0.9943802615360995\n",
      "1 0.6288407520731065 0.6625373984118709\n",
      "1 0.5902475331827682 0.7488158740703187\n",
      "0 -0.31594169414188855 0.0021406251768028178\n",
      "0 -0.13416213058258175 0.01873001706076684\n",
      "1 0.7556514290766719 0.9143538087056452\n",
      "1 0.4819768144968619 0.36765142211578267\n",
      "1 0.6319042142394815 0.7113746595201703\n",
      "1 0.4253464816138365 0.4298906556400133\n",
      "1 0.44237180748567195 0.34797457136068377\n",
      "1 1.1463770885894182 0.9968499776763053\n",
      "0 -0.017114273132311952 0.023216686888961603\n",
      "0 0.2986437042965606 0.19830650768730895\n",
      "1 0.32011044659155946 0.3454020343065577\n",
      "0 0.23473808951969732 0.13136278759493372\n",
      "1 0.3765485125790857 0.27089130298524305\n",
      "0 0.02793784495203311 0.04797036461210119\n",
      "0 0.3483792653963123 0.2733593409577431\n",
      "1 0.4528010946971551 0.34699938356978177\n",
      "1 0.523205448313825 0.5710400391515529\n",
      "0 -0.04985440842453048 0.016144757398044586\n",
      "0 0.18270463350894295 0.09018598908425404\n",
      "1 0.8614535717387839 0.9096825232703606\n",
      "1 0.7225688895068902 0.8423910065855185\n"
     ]
    }
   ],
   "source": [
    "from sklearn import linear_model\n",
    "lin_reg = linear_model.LinearRegression()\n",
    "lin_reg.fit(train_data, train_labels)\n",
    "lin_test_pred = lin_reg.predict(test_data)\n",
    "\n",
    "#print lin_test_pred\n",
    "#print test_labels\n",
    "train_labels = train_labels.astype('int')\n",
    "\n",
    "log_reg = linear_model.LogisticRegression()\n",
    "log_reg.fit(train_data, train_labels)\n",
    "log_test_pred = log_reg.predict_proba(test_data)\n",
    "log_test_pred = [i[1] for i in log_test_pred]\n",
    "\n",
    "for i in range(len(test_labels)):\n",
    "    print str(test_labels[i]) + ' ' + str(lin_test_pred[i]) + ' ' + str(log_test_pred[i])"
   ]
  },
  {
   "cell_type": "code",
   "execution_count": 255,
   "metadata": {
    "scrolled": false
   },
   "outputs": [
    {
     "name": "stdout",
     "output_type": "stream",
     "text": [
      "0.9176136363636364\n"
     ]
    },
    {
     "data": {
      "image/png": "[encoded data removed]",
      "text/plain": [
       "<matplotlib.figure.Figure at 0x7f102c247e90>"
      ]
     },
     "metadata": {},
     "output_type": "display_data"
    },
    {
     "name": "stdout",
     "output_type": "stream",
     "text": [
      "0.9076704545454545\n"
     ]
    },
    {
     "data": {
      "image/png": "[encoded data removed]",
      "text/plain": [
       "<matplotlib.figure.Figure at 0x7f102c7e6c90>"
      ]
     },
     "metadata": {},
     "output_type": "display_data"
    },
    {
     "data": {
      "text/plain": [
       "[0.9176136363636364, 0.9076704545454545]"
      ]
     },
     "execution_count": 255,
     "metadata": {},
     "output_type": "execute_result"
    }
   ],
   "source": [
    "# roc_curves\n",
    "def compute_roc_curves():\n",
    "    from sklearn import metrics\n",
    "    x = np.array(lin_test_pred.astype('float'))\n",
    "    y = np.array(test_labels.astype('float'))\n",
    "    fpr, tpr, thresholds = metrics.roc_curve(y, x, pos_label=1)\n",
    "    lin_auc = metrics.auc(fpr, tpr)\n",
    "    print lin_auc\n",
    "    plt.title('linear model')\n",
    "    plt.plot(fpr, tpr)\n",
    "    plt.show()\n",
    "    x = log_test_pred\n",
    "    fpr, tpr, thresholds = metrics.roc_curve(y, x, pos_label=1)\n",
    "    log_auc = metrics.auc(fpr, tpr)\n",
    "    print log_auc\n",
    "    plt.title('logistic model')\n",
    "    plt.plot(fpr, tpr)\n",
    "    plt.show()\n",
    "    return [lin_auc, log_auc]\n",
    "\n",
    "compute_roc_curves()"
   ]
  },
  {
   "cell_type": "code",
   "execution_count": 256,
   "metadata": {},
   "outputs": [
    {
     "name": "stdout",
     "output_type": "stream",
     "text": [
      "0.892307692308\n",
      "0.89552238806\n",
      "0.349\n",
      "0.231\n"
     ]
    }
   ],
   "source": [
    "# maximize optimal threshold\n",
    "def calc_f1(pred, truth, th):\n",
    "    TP = np.sum(np.multiply(pred>th, truth==1))\n",
    "    FP = np.sum(np.multiply(pred>th, truth==0))\n",
    "    TN = np.sum(np.multiply(pred<th, truth==0))\n",
    "    FN = np.sum(np.multiply(pred<th, truth==1))\n",
    "    return 2*float(TP)/float((2*TP + FP + FN))\n",
    "\n",
    "max_f1_lin, max_f1_th_lin, max_f1_log, max_f1_th_log = -1,-1,-1,-1\n",
    "for i in range(1000):\n",
    "    th = float(i)/1000\n",
    "    y = np.array(test_labels.astype('float'))\n",
    "    x = np.array(lin_test_pred.astype('float'))\n",
    "    val_lin = calc_f1(x,y,th)\n",
    "    x = np.array(log_test_pred).astype('float')\n",
    "    val_log = calc_f1(x,y,th)\n",
    "    if val_lin > max_f1_lin:\n",
    "        max_f1_lin = val_lin\n",
    "        max_f1_th_lin = th\n",
    "    if val_log > max_f1_log:\n",
    "        max_f1_log = val_log\n",
    "        max_f1_th_log = th\n",
    "        \n",
    "print max_f1_lin\n",
    "print max_f1_log\n",
    "print max_f1_th_lin\n",
    "print max_f1_th_log"
   ]
  },
  {
   "cell_type": "code",
   "execution_count": 200,
   "metadata": {},
   "outputs": [
    {
     "name": "stdout",
     "output_type": "stream",
     "text": [
      "(270, 13)\n",
      "(270,)\n",
      "[0.8291666666666666, 0.8930555555555556, 0.9555555555555555, 0.8763888888888889, 0.9291666666666666]\n",
      "[0.4, 0.2857142857142857, 0.45161290322580644, 0.2222222222222222, 0.3448275862068966]\n"
     ]
    }
   ],
   "source": [
    "# stratified five-fold cross-validation\n",
    "from sklearn.model_selection import StratifiedKFold\n",
    "from sklearn import metrics\n",
    "skf = StratifiedKFold(n_splits=5)\n",
    "X = data[:,0:13]\n",
    "y = data[:,13].astype('int')\n",
    "print X.shape\n",
    "print y.shape\n",
    "auc = []\n",
    "f1 = []\n",
    "for tr_ind, te_ind in skf.split(X, y):\n",
    "    #print tr_ind\n",
    "    #print te_ind\n",
    "    train_data, test_data = X[tr_ind,:], X[te_ind,:]\n",
    "    train_labels, test_labels = y[tr_ind], y[te_ind]\n",
    "    #rss_feat_fwd(indDict)\n",
    "    #rss_feat_bkwd(indDict)\n",
    "    from sklearn import linear_model\n",
    "    lin_reg = linear_model.LinearRegression()\n",
    "    lin_reg.fit(train_data, train_labels)\n",
    "    lin_test_pred = lin_reg.predict(test_data)\n",
    "    ya = np.array(test_labels.astype('float'))\n",
    "    xa = np.array(lin_test_pred.astype('float'))\n",
    "    fpr, tpr, thresholds = metrics.roc_curve(ya, xa, pos_label=1)\n",
    "    log_auc = metrics.auc(fpr, tpr)\n",
    "    auc.append(log_auc)\n",
    "    f1.append(calc_f1(xa,ya,th))\n",
    "print auc\n",
    "print f1"
   ]
  }
 ],
 "metadata": {
  "kernelspec": {
   "display_name": "Python 2",
   "language": "python",
   "name": "python2"
  },
  "language_info": {
   "codemirror_mode": {
    "name": "ipython",
    "version": 2
   },
   "file_extension": ".py",
   "mimetype": "text/x-python",
   "name": "python",
   "nbconvert_exporter": "python",
   "pygments_lexer": "ipython2",
   "version": "2.7.14"
  }
 },
 "nbformat": 4,
 "nbformat_minor": 2
}
