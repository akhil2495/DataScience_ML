{
 "cells": [
  {
   "cell_type": "code",
   "execution_count": 19,
   "metadata": {
    "collapsed": true
   },
   "outputs": [],
   "source": [
    "import pandas as pd\n",
    "import matplotlib.pyplot as plt\n",
    "df = pd.read_csv('hw1_input.csv')"
   ]
  },
  {
   "cell_type": "code",
   "execution_count": 20,
   "metadata": {
    "collapsed": true
   },
   "outputs": [],
   "source": [
    "# data conversion for label encoding and intermediate usage for one-hot-encoding\n",
    "import numpy as np\n",
    "data = np.array(df)\n",
    "data[data=='Female'] = 0\n",
    "data[data=='Male'] = 1\n",
    "data[data=='Abnormal'] = 0\n",
    "data[data=='Angina'] = 1\n",
    "data[data=='Asymptomatic'] = 2\n",
    "data[data=='None'] = 3\n",
    "data[data=='No'] = 0\n",
    "data[data=='Yes'] = 1\n",
    "data[data==' hyper'] = 0\n",
    "data[data=='abnorm'] = 1\n",
    "data[data=='norm'] = 2\n",
    "data[data=='Down'] = 0\n",
    "data[data=='Flat'] = 1\n",
    "data[data=='Up'] = 2\n",
    "data[data=='Fixed Defect'] = 0\n",
    "data[data=='Normal'] = 1\n",
    "data[data=='reversible Defect'] = 2\n",
    "data[data=='Abnormal'] = 0"
   ]
  },
  {
   "cell_type": "code",
   "execution_count": 243,
   "metadata": {
    "collapsed": true
   },
   "outputs": [],
   "source": [
    "# for one-hot-encoding (did not perform for this task)\n",
    "#from sklearn.preprocessing import OneHotEncoder\n",
    "#enc = OneHotEncoder(categorical_features=[1,2,5,6,8,10,12])\n",
    "#OneHotEncData=data#OneHotEncData = df.iloc[:,0:13].values\n",
    "#print OneHotEncData.shape\n",
    "#OneHotEncData = enc.fit_transform(OneHotEncData).toarray()\n",
    "#print OneHotEncData.shape"
   ]
  },
  {
   "cell_type": "code",
   "execution_count": 21,
   "metadata": {},
   "outputs": [
    {
     "name": "stdout",
     "output_type": "stream",
     "text": [
      "(216, 13)\n",
      "(54, 13)\n"
     ]
    }
   ],
   "source": [
    "from sklearn.model_selection import train_test_split\n",
    "train_data, test_data, train_labels, test_labels = train_test_split(data[:,0:13], data[:,13], test_size=0.20)\n",
    "#train_data, test_data, train_labels, test_labels = train_test_split(OneHotEncData, data[:,13], test_size=0.20)\n",
    "print train_data.shape\n",
    "print test_data.shape\n",
    "tr_data = train_data\n",
    "te_data = test_data"
   ]
  },
  {
   "cell_type": "code",
   "execution_count": 22,
   "metadata": {
    "collapsed": true
   },
   "outputs": [],
   "source": [
    "train_data = tr_data\n",
    "test_data = te_data"
   ]
  },
  {
   "cell_type": "code",
   "execution_count": 23,
   "metadata": {
    "scrolled": true
   },
   "outputs": [
    {
     "name": "stdout",
     "output_type": "stream",
     "text": [
      "[u'major vessels', u'angina', u'oldpeak', u'slope', u'Sex', u'resting ECG', u'Cholestoral', u'Chest Pain', u'BP', u'fasting blood sugar > 120', u'Age', u'max hr', u'defect']\n"
     ]
    },
    {
     "data": {
      "image/png": "[encoded data removed]",
      "text/plain": [
       "<matplotlib.figure.Figure at 0x7f88b06f5190>"
      ]
     },
     "metadata": {},
     "output_type": "display_data"
    },
    {
     "name": "stdout",
     "output_type": "stream",
     "text": [
      "[u'oldpeak', u'angina', u'BP', u'max hr', u'Cholestoral', u'fasting blood sugar > 120', u'Age', u'resting ECG', u'defect', u'Sex', u'Chest Pain', u'slope']\n"
     ]
    },
    {
     "data": {
      "image/png": "[encoded data removed]",
      "text/plain": [
       "<matplotlib.figure.Figure at 0x7f88a8376250>"
      ]
     },
     "metadata": {},
     "output_type": "display_data"
    }
   ],
   "source": [
    "# RSS forward selection and backward elimination algorithms for categorical data handled through label encoding \n",
    "# (has not been used in the report as selection of features was better from the F-statistic)\n",
    "from sklearn import linear_model\n",
    "\n",
    "def compute_rss(pred, truth):\n",
    "    return sum((pred-truth)**2)\n",
    "\n",
    "indDict = {'Age':0,'Sex':1,'Chest Pain':2,'BP':3,'Cholestoral':4,'fasting blood sugar > 120':5,'resting ECG':6,'max hr':7,'angina':8,'oldpeak':9,'slope':10,'major vessels':11,'defect':12}\n",
    "# feature selection (forward selection)\n",
    "def rss_feat_fwd(indDict):\n",
    "    rss = []\n",
    "    selected_feat = []\n",
    "    remaining_feat = [u'Age', u'Sex', u'Chest Pain', u'BP', u'Cholestoral',u'fasting blood sugar > 120', u'resting ECG', u'max hr', u'angina',u'oldpeak', u'slope', u'major vessels', u'defect']\n",
    "    for i in range(13):\n",
    "        max_val = float('inf')\n",
    "        for j in remaining_feat:\n",
    "            lin_reg = linear_model.LinearRegression()\n",
    "            ind = [indDict[i] for i in selected_feat]\n",
    "            ind.append(indDict[j])\n",
    "            train_data, test_data, train_labels, test_labels = train_test_split(data[:,ind], data[:,13], test_size=0.20)\n",
    "            lin_reg.fit(train_data, train_labels)\n",
    "            pred = lin_reg.predict(test_data)\n",
    "            val = compute_rss(pred, test_labels)\n",
    "            if val < max_val:\n",
    "                max_val = val\n",
    "                max_feat = j\n",
    "        rss.append(max_val)\n",
    "        remaining_feat.remove(max_feat)\n",
    "        selected_feat.append(max_feat)\n",
    "    print selected_feat\n",
    "    plt.plot(rss)\n",
    "    plt.show()\n",
    "rss_feat_fwd(indDict)\n",
    "\n",
    "# feature selection (backward elimination)\n",
    "def rss_feat_bkwd(indDict):\n",
    "    rss = []\n",
    "    removed_feat = []\n",
    "    remaining_feat = [u'Age', u'Sex', u'Chest Pain', u'BP', u'Cholestoral',u'fasting blood sugar > 120', u'resting ECG', u'max hr', u'angina',u'oldpeak', u'slope', u'major vessels', u'defect']\n",
    "    for i in range(12):\n",
    "        max_val = float('inf')\n",
    "        for j in remaining_feat:\n",
    "            lin_reg = linear_model.LinearRegression()\n",
    "            ind = [indDict[i] for i in remaining_feat]\n",
    "            ind.remove(indDict[j])\n",
    "            train_data, test_data, train_labels, test_labels = train_test_split(data[:,ind], data[:,13], test_size=0.20)\n",
    "            lin_reg.fit(train_data, train_labels)\n",
    "            pred = lin_reg.predict(test_data)\n",
    "            val = compute_rss(pred, test_labels)\n",
    "            if val < max_val:\n",
    "                max_val = val\n",
    "                max_feat = j\n",
    "        rss.append(max_val)\n",
    "        remaining_feat.remove(max_feat)\n",
    "        removed_feat.append(max_feat)\n",
    "    print removed_feat\n",
    "    plt.plot(rss)\n",
    "    plt.show()\n",
    "rss_feat_bkwd(indDict)"
   ]
  },
  {
   "cell_type": "code",
   "execution_count": 24,
   "metadata": {},
   "outputs": [
    {
     "name": "stdout",
     "output_type": "stream",
     "text": [
      "[10.19729654 20.15676409 51.23733189  7.66596576  4.25236286  0.17398609\n",
      "  4.12829096 42.32445583 51.19333155 44.35231728 19.57310446 61.37206488\n",
      " 45.14476833]\n"
     ]
    }
   ],
   "source": [
    "from sklearn.feature_selection import f_regression\n",
    "F,p = f_regression(train_data.astype('float'), train_labels.astype('int'))\n",
    "print F"
   ]
  },
  {
   "cell_type": "code",
   "execution_count": 25,
   "metadata": {
    "collapsed": true
   },
   "outputs": [],
   "source": [
    "# selecting train test data based on F-statistic\n",
    "train_data = train_data[:,[0,1,2,3,4,5,6,10]]\n",
    "test_data = test_data[:,[0,1,2,3,4,5,6,10]]\n",
    "#train_data = train_data[:,F<10]\n",
    "#test_data = test_data[:,F<10]"
   ]
  },
  {
   "cell_type": "code",
   "execution_count": 26,
   "metadata": {
    "scrolled": true
   },
   "outputs": [
    {
     "name": "stdout",
     "output_type": "stream",
     "text": [
      "1 0.5892976410334281 0.5734990346486015\n",
      "1 0.7160044901592777 0.8206011182466882\n",
      "1 0.5833918305987014 0.7270721221493067\n",
      "0 0.40521701781466707 0.4483339145333746\n",
      "0 -0.0532836426194446 0.02861666846035484\n",
      "1 0.1418775192489734 0.09731236268766032\n",
      "1 0.2883549151367228 0.22177272557833266\n",
      "1 0.7557166016408399 0.8305831435027017\n",
      "1 1.0254059089514984 0.9599453348866378\n",
      "0 -0.01573512020093512 0.0561745705879576\n",
      "0 0.050842340371591466 0.05266335268110784\n",
      "1 1.0835472441324756 0.9623764427740741\n",
      "0 0.04506910872190162 0.04321918405566683\n",
      "0 0.38561240227651455 0.3003187390478858\n",
      "1 0.0976801426150812 0.08404755877355491\n",
      "0 0.39057881139117484 0.30218738088346225\n",
      "1 0.7941804626741067 0.8580949064764026\n",
      "0 0.09542485874799828 0.08567869312311324\n",
      "0 0.45979452557566464 0.47645680108839183\n",
      "0 0.075798053732524 0.0979787590903913\n",
      "1 0.7078841045070667 0.7781964714488426\n",
      "1 0.4656770218988195 0.44351623694053716\n",
      "0 -0.23381692412808727 0.013737314627670182\n",
      "0 0.07293598245153465 0.0783639400380229\n",
      "0 0.3766853626983743 0.2758431177962848\n",
      "1 0.9232237290867329 0.9061032768154819\n",
      "0 0.21207444292102745 0.2226884588106174\n",
      "0 -0.2902690336920687 0.011890973743383205\n",
      "0 0.6291636900430941 0.6087504621230214\n",
      "1 0.1123731149980986 0.09834320059586593\n",
      "0 0.6515863188441267 0.6864595593912072\n",
      "1 0.4196754884054337 0.47307556606424717\n",
      "0 0.4308551992903166 0.3288503403831756\n",
      "1 0.3540296170787768 0.36791818373916535\n",
      "0 0.1805802308922143 0.10328752704696845\n",
      "1 0.7135561845984437 0.8184781891972759\n",
      "1 0.5496420511849913 0.5203300956874507\n",
      "1 0.8501374870097309 0.8389366037664132\n",
      "1 0.39073177508115803 0.21865076708551764\n",
      "1 0.7542426427102649 0.8280780189891128\n",
      "0 0.472167544377222 0.37766333632005517\n",
      "0 0.607862368159428 0.6001809226598568\n",
      "1 0.4789007411279102 0.47324427760337956\n",
      "0 0.31406400701424403 0.22215102130260928\n",
      "0 -0.08949176777185552 0.038696165343331784\n",
      "1 0.5826418970087854 0.5600765495326547\n",
      "0 -0.031277874794570726 0.03425795858180555\n",
      "1 0.7742831567181083 0.8503941771733737\n",
      "0 0.049808617937589006 0.0797560552263488\n",
      "1 0.829812773030812 0.8789073064658963\n",
      "1 0.7923627185872624 0.8628316470343999\n",
      "0 0.10770772753424801 0.10750647913975196\n",
      "0 0.15649691248778386 0.12066484269377847\n",
      "0 0.2239215469512874 0.2089841096906805\n"
     ]
    }
   ],
   "source": [
    "from sklearn import linear_model\n",
    "lin_reg = linear_model.LinearRegression()\n",
    "lin_reg.fit(train_data, train_labels)\n",
    "lin_test_pred = lin_reg.predict(test_data)\n",
    "\n",
    "#print lin_test_pred\n",
    "#print test_labels\n",
    "train_labels = train_labels.astype('int')\n",
    "\n",
    "log_reg = linear_model.LogisticRegression()\n",
    "log_reg.fit(train_data, train_labels)\n",
    "log_test_pred = log_reg.predict_proba(test_data)\n",
    "log_test_pred = [i[1] for i in log_test_pred]\n",
    "\n",
    "for i in range(len(test_labels)):\n",
    "    print str(test_labels[i]) + ' ' + str(lin_test_pred[i]) + ' ' + str(log_test_pred[i])"
   ]
  },
  {
   "cell_type": "code",
   "execution_count": 27,
   "metadata": {
    "scrolled": false
   },
   "outputs": [
    {
     "name": "stdout",
     "output_type": "stream",
     "text": [
      "0.864010989010989\n"
     ]
    },
    {
     "data": {
      "image/png": "[encoded data removed]",
      "text/plain": [
       "<matplotlib.figure.Figure at 0x7f88b072a710>"
      ]
     },
     "metadata": {},
     "output_type": "display_data"
    },
    {
     "name": "stdout",
     "output_type": "stream",
     "text": [
      "0.8585164835164836\n"
     ]
    },
    {
     "data": {
      "image/png": "[encoded data removed]",
      "text/plain": [
       "<matplotlib.figure.Figure at 0x7f88a82e0a90>"
      ]
     },
     "metadata": {},
     "output_type": "display_data"
    },
    {
     "data": {
      "text/plain": [
       "[0.864010989010989, 0.8585164835164836]"
      ]
     },
     "execution_count": 27,
     "metadata": {},
     "output_type": "execute_result"
    }
   ],
   "source": [
    "# roc_curves\n",
    "def compute_roc_curves():\n",
    "    from sklearn import metrics\n",
    "    x = np.array(lin_test_pred.astype('float'))\n",
    "    y = np.array(test_labels.astype('float'))\n",
    "    fpr, tpr, thresholds = metrics.roc_curve(y, x, pos_label=1)\n",
    "    lin_auc = metrics.auc(fpr, tpr)\n",
    "    print lin_auc\n",
    "    plt.title('linear model')\n",
    "    plt.plot(fpr, tpr)\n",
    "    plt.show()\n",
    "    x = log_test_pred\n",
    "    fpr, tpr, thresholds = metrics.roc_curve(y, x, pos_label=1)\n",
    "    log_auc = metrics.auc(fpr, tpr)\n",
    "    print log_auc\n",
    "    plt.title('logistic model')\n",
    "    plt.plot(fpr, tpr)\n",
    "    plt.show()\n",
    "    return [lin_auc, log_auc]\n",
    "\n",
    "compute_roc_curves()"
   ]
  },
  {
   "cell_type": "code",
   "execution_count": 28,
   "metadata": {},
   "outputs": [
    {
     "name": "stdout",
     "output_type": "stream",
     "text": [
      "0.775510204082\n",
      "0.792452830189\n",
      "0.46\n",
      "0.329\n"
     ]
    }
   ],
   "source": [
    "# maximize optimal threshold\n",
    "def calc_f1(pred, truth, th):\n",
    "    TP = np.sum(np.multiply(pred>th, truth==1))\n",
    "    FP = np.sum(np.multiply(pred>th, truth==0))\n",
    "    TN = np.sum(np.multiply(pred<th, truth==0))\n",
    "    FN = np.sum(np.multiply(pred<th, truth==1))\n",
    "    return 2*float(TP)/float((2*TP + FP + FN))\n",
    "\n",
    "max_f1_lin, max_f1_th_lin, max_f1_log, max_f1_th_log = -1,-1,-1,-1\n",
    "for i in range(1000):\n",
    "    th = float(i)/1000\n",
    "    y = np.array(test_labels.astype('float'))\n",
    "    x = np.array(lin_test_pred.astype('float'))\n",
    "    val_lin = calc_f1(x,y,th)\n",
    "    x = np.array(log_test_pred).astype('float')\n",
    "    val_log = calc_f1(x,y,th)\n",
    "    if val_lin > max_f1_lin:\n",
    "        max_f1_lin = val_lin\n",
    "        max_f1_th_lin = th\n",
    "    if val_log > max_f1_log:\n",
    "        max_f1_log = val_log\n",
    "        max_f1_th_log = th\n",
    "        \n",
    "print max_f1_lin\n",
    "print max_f1_log\n",
    "print max_f1_th_lin\n",
    "print max_f1_th_log"
   ]
  },
  {
   "cell_type": "code",
   "execution_count": 36,
   "metadata": {},
   "outputs": [
    {
     "name": "stdout",
     "output_type": "stream",
     "text": [
      "(270, 13)\n",
      "(270,)\n",
      "[0.8027777777777778, 0.8819444444444444, 0.9208333333333334, 0.8763888888888889, 0.9111111111111111]\n",
      "[0.7346938775510204, 0.84, 0.8085106382978723, 0.7636363636363637, 0.8571428571428571]\n"
     ]
    }
   ],
   "source": [
    "# stratified five-fold cross-validation\n",
    "from sklearn.model_selection import StratifiedKFold\n",
    "from sklearn import metrics\n",
    "skf = StratifiedKFold(n_splits=5)\n",
    "X = data[:,0:13]\n",
    "y = data[:,13].astype('int')\n",
    "print X.shape\n",
    "print y.shape\n",
    "auc = []\n",
    "f1 = []\n",
    "for tr_ind, te_ind in skf.split(X, y):\n",
    "    train_data, test_data = X[tr_ind,:], X[te_ind,:]\n",
    "    train_labels, test_labels = y[tr_ind], y[te_ind]\n",
    "    from sklearn.feature_selection import f_regression\n",
    "    F,p = f_regression(train_data.astype('float'), train_labels.astype('int'))\n",
    "    train_data = train_data[:,F<40]\n",
    "    test_data = test_data[:,F<40]\n",
    "    from sklearn import linear_model\n",
    "    lin_reg = linear_model.LinearRegression()\n",
    "    lin_reg.fit(train_data, train_labels)\n",
    "    lin_test_pred = lin_reg.predict(test_data)\n",
    "    ya = np.array(test_labels.astype('float'))\n",
    "    xa = np.array(lin_test_pred.astype('float'))\n",
    "    fpr, tpr, thresholds = metrics.roc_curve(ya, xa, pos_label=1)\n",
    "    log_auc = metrics.auc(fpr, tpr)\n",
    "    auc.append(log_auc)\n",
    "    f1.append(calc_f1(xa,ya,0.46))\n",
    "print auc\n",
    "print f1"
   ]
  },
  {
   "cell_type": "code",
   "execution_count": null,
   "metadata": {
    "collapsed": true
   },
   "outputs": [],
   "source": []
  },
  {
   "cell_type": "code",
   "execution_count": null,
   "metadata": {
    "collapsed": true
   },
   "outputs": [],
   "source": []
  }
 ],
 "metadata": {
  "kernelspec": {
   "display_name": "Python 2",
   "language": "python",
   "name": "python2"
  },
  "language_info": {
   "codemirror_mode": {
    "name": "ipython",
    "version": 2
   },
   "file_extension": ".py",
   "mimetype": "text/x-python",
   "name": "python",
   "nbconvert_exporter": "python",
   "pygments_lexer": "ipython2",
   "version": "2.7.14"
  }
 },
 "nbformat": 4,
 "nbformat_minor": 2
}
